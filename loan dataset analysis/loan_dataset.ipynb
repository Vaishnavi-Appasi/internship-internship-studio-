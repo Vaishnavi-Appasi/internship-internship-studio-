{
 "cells": [
  {
   "cell_type": "code",
   "execution_count": 2,
   "id": "25922d9c-86c4-4de6-97e7-9ab818ae419f",
   "metadata": {},
   "outputs": [],
   "source": [
    "import pandas as pd\n",
    "from sklearn.model_selection import train_test_split\n",
    "from sklearn.linear_model import LogisticRegression\n",
    "from sklearn.metrics import accuracy_score,confusion_matrix"
   ]
  },
  {
   "cell_type": "code",
   "execution_count": 3,
   "id": "690eaf2b-073e-49c6-a6da-d685e9554c4b",
   "metadata": {},
   "outputs": [],
   "source": [
    "df=pd.read_csv(\"loan_data_set.csv\")"
   ]
  },
  {
   "cell_type": "code",
   "execution_count": 4,
   "id": "aed7d981-7049-450b-83f3-28c21d78279f",
   "metadata": {},
   "outputs": [
    {
     "data": {
      "text/plain": [
       "Loan_ID               0\n",
       "Gender               13\n",
       "Married               3\n",
       "Dependents           15\n",
       "Education             0\n",
       "Self_Employed        32\n",
       "ApplicantIncome       0\n",
       "CoapplicantIncome     0\n",
       "LoanAmount           22\n",
       "Loan_Amount_Term     14\n",
       "Credit_History       50\n",
       "Property_Area         0\n",
       "Loan_Status           0\n",
       "dtype: int64"
      ]
     },
     "execution_count": 4,
     "metadata": {},
     "output_type": "execute_result"
    }
   ],
   "source": [
    "df.isnull().sum()"
   ]
  },
  {
   "cell_type": "code",
   "execution_count": 5,
   "id": "d574f62d-c85b-49fa-9816-add5b5746f04",
   "metadata": {},
   "outputs": [
    {
     "name": "stderr",
     "output_type": "stream",
     "text": [
      "C:\\Users\\DELL\\AppData\\Local\\Temp\\ipykernel_15424\\1691654293.py:1: FutureWarning: DataFrame.fillna with 'method' is deprecated and will raise in a future version. Use obj.ffill() or obj.bfill() instead.\n",
      "  df.fillna(method=\"ffill\",inplace=True)\n"
     ]
    }
   ],
   "source": [
    "df.fillna(method=\"ffill\",inplace=True)\n"
   ]
  },
  {
   "cell_type": "code",
   "execution_count": 6,
   "id": "ef0a5d23-8476-4ec4-8bb1-8799a13c34bb",
   "metadata": {},
   "outputs": [
    {
     "name": "stderr",
     "output_type": "stream",
     "text": [
      "C:\\Users\\DELL\\AppData\\Local\\Temp\\ipykernel_15424\\1336909559.py:1: FutureWarning: DataFrame.fillna with 'method' is deprecated and will raise in a future version. Use obj.ffill() or obj.bfill() instead.\n",
      "  df.fillna(method=\"bfill\",inplace=True)\n"
     ]
    }
   ],
   "source": [
    "df.fillna(method=\"bfill\",inplace=True)"
   ]
  },
  {
   "cell_type": "code",
   "execution_count": 7,
   "id": "73465a32-d3f1-4235-abdb-9cc972ad431d",
   "metadata": {},
   "outputs": [],
   "source": [
    "df1=pd.get_dummies(df,columns=[\"Gender\",\"Married\",\"Dependents\",\"Education\",\"Self_Employed\",\"Property_Area\",\"Loan_Status\"])"
   ]
  },
  {
   "cell_type": "code",
   "execution_count": 8,
   "id": "00875a7d-9f5b-4092-8c58-85cf6e49ea71",
   "metadata": {},
   "outputs": [
    {
     "data": {
      "text/plain": [
       "Loan_ID                     object\n",
       "ApplicantIncome              int64\n",
       "CoapplicantIncome          float64\n",
       "LoanAmount                 float64\n",
       "Loan_Amount_Term           float64\n",
       "Credit_History             float64\n",
       "Gender_Female                 bool\n",
       "Gender_Male                   bool\n",
       "Married_No                    bool\n",
       "Married_Yes                   bool\n",
       "Dependents_0                  bool\n",
       "Dependents_1                  bool\n",
       "Dependents_2                  bool\n",
       "Dependents_3+                 bool\n",
       "Education_Graduate            bool\n",
       "Education_Not Graduate        bool\n",
       "Self_Employed_No              bool\n",
       "Self_Employed_Yes             bool\n",
       "Property_Area_Rural           bool\n",
       "Property_Area_Semiurban       bool\n",
       "Property_Area_Urban           bool\n",
       "Loan_Status_N                 bool\n",
       "Loan_Status_Y                 bool\n",
       "dtype: object"
      ]
     },
     "execution_count": 8,
     "metadata": {},
     "output_type": "execute_result"
    }
   ],
   "source": [
    "df1.dtypes"
   ]
  },
  {
   "cell_type": "code",
   "execution_count": 9,
   "id": "a257b468-d6ca-4b21-ad39-b615ac444b56",
   "metadata": {},
   "outputs": [],
   "source": [
    "df1.drop(\"Gender_Female\",axis=1,inplace=True)\n",
    "df1.drop(\"Married_No\",axis=1,inplace=True)\n",
    "df1.drop(\"Education_Graduate\",axis=1,inplace=True)\n",
    "df1.drop(\"Self_Employed_No\",axis=1,inplace=True)\n",
    "df1.drop(\"Property_Area_Rural\",axis=1,inplace=True)\n",
    "df1.drop(\"Loan_Status_N\",axis=1,inplace=True)\n",
    "df1.drop(\"Dependents_3+\",axis=1,inplace=True)\n"
   ]
  },
  {
   "cell_type": "code",
   "execution_count": 10,
   "id": "e1194c1b-64b5-42a6-914e-6899f2d6a1f9",
   "metadata": {},
   "outputs": [],
   "source": [
    "x=df1.iloc[:,2:15]\n",
    "y=df1.iloc[:,-1]"
   ]
  },
  {
   "cell_type": "code",
   "execution_count": 11,
   "id": "340ef5bf-3af9-4fd7-a1c4-6520ed305e54",
   "metadata": {},
   "outputs": [],
   "source": [
    "x_train,x_test,y_train,y_test=train_test_split(x,y,test_size=0.25,random_state=(0))"
   ]
  },
  {
   "cell_type": "code",
   "execution_count": 12,
   "id": "a9db17e6-f3f4-44b1-9bb4-dd608e5f37a2",
   "metadata": {},
   "outputs": [],
   "source": [
    "m1=LogisticRegression(max_iter=3000)\n",
    "m1.fit(x_train, y_train)\n",
    "y_pred=m1.predict(x_test)"
   ]
  },
  {
   "cell_type": "markdown",
   "id": "44e4b46b-ee50-43e7-9e79-8630066030a6",
   "metadata": {},
   "source": [
    " acc=accuracy_score(y_test, y_pred)\r\n",
    "c=confusion_matrix(y_test,y_pred)\r\n",
    "print(acc)\r\n",
    "print(c)"
   ]
  },
  {
   "cell_type": "code",
   "execution_count": 14,
   "id": "6e93b70a-4add-4d64-879f-d295a75e1190",
   "metadata": {},
   "outputs": [
    {
     "name": "stdout",
     "output_type": "stream",
     "text": [
      "0.8506493506493507\n",
      "[[ 23  20]\n",
      " [  3 108]]\n"
     ]
    }
   ],
   "source": [
    "acc=accuracy_score(y_test, y_pred)\n",
    "c=confusion_matrix(y_test,y_pred)\n",
    "print(acc)\n",
    "print(c)"
   ]
  },
  {
   "cell_type": "code",
   "execution_count": null,
   "id": "e1274779-1788-4374-86b5-24b6f8f68bd7",
   "metadata": {},
   "outputs": [],
   "source": []
  }
 ],
 "metadata": {
  "kernelspec": {
   "display_name": "Python 3 (ipykernel)",
   "language": "python",
   "name": "python3"
  },
  "language_info": {
   "codemirror_mode": {
    "name": "ipython",
    "version": 3
   },
   "file_extension": ".py",
   "mimetype": "text/x-python",
   "name": "python",
   "nbconvert_exporter": "python",
   "pygments_lexer": "ipython3",
   "version": "3.12.4"
  }
 },
 "nbformat": 4,
 "nbformat_minor": 5
}
